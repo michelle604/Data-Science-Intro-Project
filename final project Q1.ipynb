{
 "cells": [
  {
   "cell_type": "code",
   "execution_count": 1,
   "metadata": {
    "collapsed": true
   },
   "outputs": [],
   "source": [
    "import csv\n",
    "import pandas as pd\n",
    "import numpy as np\n",
    "import matplotlib.pyplot as plt\n",
    "%matplotlib inline"
   ]
  },
  {
   "cell_type": "code",
   "execution_count": 14,
   "metadata": {},
   "outputs": [
    {
     "ename": "AttributeError",
     "evalue": "Can only use .str accessor with string values, which use np.object_ dtype in pandas",
     "output_type": "error",
     "traceback": [
      "\u001b[0;31m---------------------------------------------------------------------------\u001b[0m",
      "\u001b[0;31mAttributeError\u001b[0m                            Traceback (most recent call last)",
      "\u001b[0;32m<ipython-input-14-53fe179ac7f6>\u001b[0m in \u001b[0;36m<module>\u001b[0;34m()\u001b[0m\n\u001b[1;32m      2\u001b[0m \u001b[0mjobs\u001b[0m\u001b[0;34m[\u001b[0m\u001b[0;34m'A_MEAN'\u001b[0m\u001b[0;34m]\u001b[0m \u001b[0;34m=\u001b[0m \u001b[0mpd\u001b[0m\u001b[0;34m.\u001b[0m\u001b[0mto_numeric\u001b[0m\u001b[0;34m(\u001b[0m\u001b[0mjobs\u001b[0m\u001b[0;34m.\u001b[0m\u001b[0mA_MEAN\u001b[0m\u001b[0;34m,\u001b[0m \u001b[0merrors\u001b[0m\u001b[0;34m=\u001b[0m\u001b[0;34m'coerce'\u001b[0m\u001b[0;34m)\u001b[0m\u001b[0;34m\u001b[0m\u001b[0m\n\u001b[1;32m      3\u001b[0m \u001b[0mjobs\u001b[0m\u001b[0;34m[\u001b[0m\u001b[0;34m'H_MEAN'\u001b[0m\u001b[0;34m]\u001b[0m \u001b[0;34m=\u001b[0m \u001b[0mpd\u001b[0m\u001b[0;34m.\u001b[0m\u001b[0mto_numeric\u001b[0m\u001b[0;34m(\u001b[0m\u001b[0mjobs\u001b[0m\u001b[0;34m.\u001b[0m\u001b[0mH_MEAN\u001b[0m\u001b[0;34m,\u001b[0m \u001b[0merrors\u001b[0m\u001b[0;34m=\u001b[0m\u001b[0;34m'coerce'\u001b[0m\u001b[0;34m)\u001b[0m\u001b[0;34m\u001b[0m\u001b[0m\n\u001b[0;32m----> 4\u001b[0;31m \u001b[0mjobs\u001b[0m\u001b[0;34m[\u001b[0m\u001b[0;34m'A_MEAN'\u001b[0m\u001b[0;34m]\u001b[0m \u001b[0;34m=\u001b[0m \u001b[0mjobs\u001b[0m\u001b[0;34m[\u001b[0m\u001b[0;34m'A_MEAN'\u001b[0m\u001b[0;34m]\u001b[0m\u001b[0;34m.\u001b[0m\u001b[0mstr\u001b[0m\u001b[0;34m.\u001b[0m\u001b[0mreplace\u001b[0m\u001b[0;34m(\u001b[0m\u001b[0;34m','\u001b[0m\u001b[0;34m,\u001b[0m \u001b[0;34m''\u001b[0m\u001b[0;34m)\u001b[0m\u001b[0;34m\u001b[0m\u001b[0m\n\u001b[0m\u001b[1;32m      5\u001b[0m \u001b[0;34m\u001b[0m\u001b[0m\n\u001b[1;32m      6\u001b[0m \u001b[0mjob\u001b[0m\u001b[0;34m=\u001b[0m\u001b[0mjobs\u001b[0m\u001b[0;34m[\u001b[0m\u001b[0mjobs\u001b[0m\u001b[0;34m[\u001b[0m\u001b[0;34m'H_MEAN'\u001b[0m\u001b[0;34m]\u001b[0m\u001b[0;34m.\u001b[0m\u001b[0mnotnull\u001b[0m\u001b[0;34m(\u001b[0m\u001b[0;34m)\u001b[0m \u001b[0;34m&\u001b[0m \u001b[0mjobs\u001b[0m\u001b[0;34m[\u001b[0m\u001b[0;34m'A_MEAN'\u001b[0m\u001b[0;34m]\u001b[0m\u001b[0;34m.\u001b[0m\u001b[0mnotnull\u001b[0m\u001b[0;34m(\u001b[0m\u001b[0;34m)\u001b[0m\u001b[0;34m]\u001b[0m\u001b[0;34m\u001b[0m\u001b[0m\n",
      "\u001b[0;32m/Users/michellehung/anaconda/lib/python3.6/site-packages/pandas/core/generic.py\u001b[0m in \u001b[0;36m__getattr__\u001b[0;34m(self, name)\u001b[0m\n\u001b[1;32m   2964\u001b[0m         if (name in self._internal_names_set or name in self._metadata or\n\u001b[1;32m   2965\u001b[0m                 name in self._accessors):\n\u001b[0;32m-> 2966\u001b[0;31m             \u001b[0;32mreturn\u001b[0m \u001b[0mobject\u001b[0m\u001b[0;34m.\u001b[0m\u001b[0m__getattribute__\u001b[0m\u001b[0;34m(\u001b[0m\u001b[0mself\u001b[0m\u001b[0;34m,\u001b[0m \u001b[0mname\u001b[0m\u001b[0;34m)\u001b[0m\u001b[0;34m\u001b[0m\u001b[0m\n\u001b[0m\u001b[1;32m   2967\u001b[0m         \u001b[0;32melse\u001b[0m\u001b[0;34m:\u001b[0m\u001b[0;34m\u001b[0m\u001b[0m\n\u001b[1;32m   2968\u001b[0m             \u001b[0;32mif\u001b[0m \u001b[0mname\u001b[0m \u001b[0;32min\u001b[0m \u001b[0mself\u001b[0m\u001b[0;34m.\u001b[0m\u001b[0m_info_axis\u001b[0m\u001b[0;34m:\u001b[0m\u001b[0;34m\u001b[0m\u001b[0m\n",
      "\u001b[0;32m/Users/michellehung/anaconda/lib/python3.6/site-packages/pandas/core/base.py\u001b[0m in \u001b[0;36m__get__\u001b[0;34m(self, instance, owner)\u001b[0m\n\u001b[1;32m    241\u001b[0m             \u001b[0;31m# this ensures that Series.str.<method> is well defined\u001b[0m\u001b[0;34m\u001b[0m\u001b[0;34m\u001b[0m\u001b[0m\n\u001b[1;32m    242\u001b[0m             \u001b[0;32mreturn\u001b[0m \u001b[0mself\u001b[0m\u001b[0;34m.\u001b[0m\u001b[0maccessor_cls\u001b[0m\u001b[0;34m\u001b[0m\u001b[0m\n\u001b[0;32m--> 243\u001b[0;31m         \u001b[0;32mreturn\u001b[0m \u001b[0mself\u001b[0m\u001b[0;34m.\u001b[0m\u001b[0mconstruct_accessor\u001b[0m\u001b[0;34m(\u001b[0m\u001b[0minstance\u001b[0m\u001b[0;34m)\u001b[0m\u001b[0;34m\u001b[0m\u001b[0m\n\u001b[0m\u001b[1;32m    244\u001b[0m \u001b[0;34m\u001b[0m\u001b[0m\n\u001b[1;32m    245\u001b[0m     \u001b[0;32mdef\u001b[0m \u001b[0m__set__\u001b[0m\u001b[0;34m(\u001b[0m\u001b[0mself\u001b[0m\u001b[0;34m,\u001b[0m \u001b[0minstance\u001b[0m\u001b[0;34m,\u001b[0m \u001b[0mvalue\u001b[0m\u001b[0;34m)\u001b[0m\u001b[0;34m:\u001b[0m\u001b[0;34m\u001b[0m\u001b[0m\n",
      "\u001b[0;32m/Users/michellehung/anaconda/lib/python3.6/site-packages/pandas/core/strings.py\u001b[0m in \u001b[0;36m_make_str_accessor\u001b[0;34m(self)\u001b[0m\n\u001b[1;32m   1907\u001b[0m             \u001b[0;31m# (instead of test for object dtype), but that isn't practical for\u001b[0m\u001b[0;34m\u001b[0m\u001b[0;34m\u001b[0m\u001b[0m\n\u001b[1;32m   1908\u001b[0m             \u001b[0;31m# performance reasons until we have a str dtype (GH 9343)\u001b[0m\u001b[0;34m\u001b[0m\u001b[0;34m\u001b[0m\u001b[0m\n\u001b[0;32m-> 1909\u001b[0;31m             raise AttributeError(\"Can only use .str accessor with string \"\n\u001b[0m\u001b[1;32m   1910\u001b[0m                                  \u001b[0;34m\"values, which use np.object_ dtype in \"\u001b[0m\u001b[0;34m\u001b[0m\u001b[0m\n\u001b[1;32m   1911\u001b[0m                                  \"pandas\")\n",
      "\u001b[0;31mAttributeError\u001b[0m: Can only use .str accessor with string values, which use np.object_ dtype in pandas"
     ]
    }
   ],
   "source": [
    "jobs = pd.read_csv('occupations2.csv')\n",
    "jobs['A_MEAN'] = pd.to_numeric(jobs.A_MEAN, errors='coerce')\n",
    "jobs['H_MEAN'] = pd.to_numeric(jobs.H_MEAN, errors='coerce')\n",
    "jobs['A_MEAN'] = jobs['A_MEAN'].str.replace(',', '')\n",
    "\n",
    "job=jobs[jobs['H_MEAN'].notnull() & jobs['A_MEAN'].notnull()]\n",
    "job=jobs[jobs['H_MEAN'].notnull() & jobs['A_MEAN'].notnull()]\n",
    "\n",
    "major = job[job['OCC_GROUP'].str.contains('major')]\n",
    "major"
   ]
  },
  {
   "cell_type": "code",
   "execution_count": 10,
   "metadata": {},
   "outputs": [
    {
     "name": "stdout",
     "output_type": "stream",
     "text": [
      "                                                       H_MEAN\n",
      "OCC_TITLE                                                    \n",
      "Architecture and Engineering Occupations            43.160000\n",
      "Arts, Design, Entertainment, Sports, and Media ...  31.148182\n",
      "Building and Grounds Cleaning and Maintenance O...  14.767273\n",
      "Business and Financial Operations Occupations       39.732727\n",
      "Community and Social Service Occupations            24.668182\n",
      "Computer and Mathematical Occupations               45.338182\n",
      "Construction and Extraction Occupations             27.202727\n",
      "Education, Training, and Library Occupations        28.680000\n",
      "Farming, Fishing, and Forestry Occupations          14.863636\n",
      "Food Preparation and Serving Related Occupations    12.608182\n",
      "Healthcare Practitioners and Technical Occupations  42.223636\n",
      "Healthcare Support Occupations                      15.958182\n",
      "Installation, Maintenance, and Repair Occupations   24.651818\n",
      "Legal Occupations                                   57.131818\n",
      "Life, Physical, and Social Science Occupations      37.751818\n",
      "Management Occupations                              64.610909\n",
      "Office and Administrative Support Occupations       19.676364\n",
      "Personal Care and Service Occupations               14.052727\n",
      "Production Occupations                              18.862727\n",
      "Protective Service Occupations                      24.641818\n",
      "Sales and Related Occupations                       22.373636\n",
      "Transportation and Material Moving Occupations      18.913636\n",
      "                                                       A_MEAN\n",
      "OCC_TITLE                                                    \n",
      "Architecture and Engineering Occupations            43.160000\n",
      "Arts, Design, Entertainment, Sports, and Media ...  31.148182\n",
      "Building and Grounds Cleaning and Maintenance O...  14.767273\n",
      "Business and Financial Operations Occupations       39.732727\n",
      "Community and Social Service Occupations            24.668182\n",
      "Computer and Mathematical Occupations               45.338182\n",
      "Construction and Extraction Occupations             27.202727\n",
      "Education, Training, and Library Occupations        28.680000\n",
      "Farming, Fishing, and Forestry Occupations          14.863636\n",
      "Food Preparation and Serving Related Occupations    12.608182\n",
      "Healthcare Practitioners and Technical Occupations  42.223636\n",
      "Healthcare Support Occupations                      15.958182\n",
      "Installation, Maintenance, and Repair Occupations   24.651818\n",
      "Legal Occupations                                   57.131818\n",
      "Life, Physical, and Social Science Occupations      37.751818\n",
      "Management Occupations                              64.610909\n",
      "Office and Administrative Support Occupations       19.676364\n",
      "Personal Care and Service Occupations               14.052727\n",
      "Production Occupations                              18.862727\n",
      "Protective Service Occupations                      24.641818\n",
      "Sales and Related Occupations                       22.373636\n",
      "Transportation and Material Moving Occupations      18.913636\n"
     ]
    },
    {
     "name": "stderr",
     "output_type": "stream",
     "text": [
      "/Users/michellehung/anaconda/lib/python3.6/site-packages/pandas/core/generic.py:2999: SettingWithCopyWarning: \n",
      "A value is trying to be set on a copy of a slice from a DataFrame.\n",
      "Try using .loc[row_indexer,col_indexer] = value instead\n",
      "\n",
      "See the caveats in the documentation: http://pandas.pydata.org/pandas-docs/stable/indexing.html#indexing-view-versus-copy\n",
      "  self[name] = value\n"
     ]
    }
   ],
   "source": [
    "#sum up the income per hour/year of occupations in U.S. major states\n",
    "major.H_MEAN =  major.H_MEAN.apply(lambda x: float(x))\n",
    "major.A_MEAN =  major.H_MEAN.apply(lambda x: float(x))\n",
    "H_MEAN = major.groupby(['OCC_TITLE'])[['H_MEAN']].mean()\n",
    "print(H_MEAN)\n",
    "A_MEAN = major.groupby(['OCC_TITLE'])[['A_MEAN']].mean()\n",
    "print(A_MEAN)"
   ]
  },
  {
   "cell_type": "code",
   "execution_count": 4,
   "metadata": {},
   "outputs": [
    {
     "ename": "TypeError",
     "evalue": "bar() missing 1 required positional argument: 'height'",
     "output_type": "error",
     "traceback": [
      "\u001b[0;31m---------------------------------------------------------------------------\u001b[0m",
      "\u001b[0;31mTypeError\u001b[0m                                 Traceback (most recent call last)",
      "\u001b[0;32m<ipython-input-4-9a6d5a283316>\u001b[0m in \u001b[0;36m<module>\u001b[0;34m()\u001b[0m\n\u001b[1;32m      1\u001b[0m \u001b[0moccupations\u001b[0m \u001b[0;34m=\u001b[0m \u001b[0;34m[\u001b[0m\u001b[0;34m]\u001b[0m \u001b[0;31m# occupation in 'major' group\u001b[0m\u001b[0;34m\u001b[0m\u001b[0m\n\u001b[1;32m      2\u001b[0m \u001b[0mincome\u001b[0m \u001b[0;34m=\u001b[0m \u001b[0;34m[\u001b[0m\u001b[0;34m]\u001b[0m \u001b[0;31m# mean income/hour\u001b[0m\u001b[0;34m\u001b[0m\u001b[0m\n\u001b[0;32m----> 3\u001b[0;31m \u001b[0mplt\u001b[0m\u001b[0;34m.\u001b[0m\u001b[0mbar\u001b[0m\u001b[0;34m(\u001b[0m\u001b[0mleft\u001b[0m \u001b[0;34m=\u001b[0m \u001b[0mmajor\u001b[0m\u001b[0;34m[\u001b[0m\u001b[0;34m'OCC_TITLE'\u001b[0m\u001b[0;34m]\u001b[0m\u001b[0;34m,\u001b[0m \u001b[0mincome\u001b[0m \u001b[0;34m=\u001b[0m \u001b[0mmajor\u001b[0m\u001b[0;34m[\u001b[0m\u001b[0;34m'H_MEAN'\u001b[0m\u001b[0;34m]\u001b[0m\u001b[0;34m)\u001b[0m\u001b[0;34m\u001b[0m\u001b[0m\n\u001b[0m\u001b[1;32m      4\u001b[0m \u001b[0mplt\u001b[0m\u001b[0;34m.\u001b[0m\u001b[0mxlabel\u001b[0m\u001b[0;34m(\u001b[0m\u001b[0;34m'occupation in Los Angeles-Long Beach-Anaheim, CA'\u001b[0m\u001b[0;34m)\u001b[0m\u001b[0;34m\u001b[0m\u001b[0m\n\u001b[1;32m      5\u001b[0m \u001b[0mplt\u001b[0m\u001b[0;34m.\u001b[0m\u001b[0mylabel\u001b[0m\u001b[0;34m(\u001b[0m\u001b[0;34m'avarage income/ hour'\u001b[0m\u001b[0;34m)\u001b[0m\u001b[0;34m\u001b[0m\u001b[0m\n",
      "\u001b[0;31mTypeError\u001b[0m: bar() missing 1 required positional argument: 'height'"
     ]
    }
   ],
   "source": [
    "occupations = [] # occupation in 'major' group\n",
    "income = [] # mean income/hour\n",
    "plt.bar(left = major['OCC_TITLE'], income = major['H_MEAN'])\n",
    "plt.xlabel('occupation in Los Angeles-Long Beach-Anaheim, CA')\n",
    "plt.ylabel('avarage income/ hour')\n",
    "plt.show()"
   ]
  },
  {
   "cell_type": "code",
   "execution_count": null,
   "metadata": {
    "collapsed": true
   },
   "outputs": [],
   "source": [
    "# Bar chart showing occupations in 'major' group\n",
    "bars = [] # occupation in 'major' group\n",
    "heights = [] # mean income/hour\n",
    "for job in jobs:\n",
    "    if str('major') in job['OCC_GROUP'] and str('CA')in job['AREA_NAME']:\n",
    "        bars.append(job['OCC_TITLE'])\n",
    "        heights.append(job['H_MEAN'])\n",
    "    \n",
    "plt.bar(left = job['OCC_TITLE'], height = job['H_MEAN'])\n",
    "plt.xlabel('occupation in Los Angeles-Long Beach-Anaheim, CA')\n",
    "plt.ylabel('avarage income/ hour')\n",
    "plt.show()"
   ]
  },
  {
   "cell_type": "code",
   "execution_count": null,
   "metadata": {
    "collapsed": true
   },
   "outputs": [],
   "source": [
    "# Bar chart showing occupations in 'major' group\n",
    "\n",
    "df = pd.read_csv('occupations.csv')\n",
    "    \n",
    "bars = [] # occupation in 'major' group\n",
    "heights = [] # mean income/hour'''\n",
    "\n",
    "for job in jobs:\n",
    "    if 'major' in job['OCC_GROUP'] and 'CA' in job['PRIM_STATE']:\n",
    "        bars.append(job['OCC_TITLE'])\n",
    "        heights.append(job['H_MEAN'])\n",
    "        \n",
    "with open('occupations.csv') as f: \n",
    "    rows = csv.reader(f)\n",
    "    for r in rows:\n",
    "        jobs.append(r)\n",
    "for job in jobs:\n",
    "    if job['OCC_TITLE'] == job['OCC_TITLE']\n",
    "    df.reset_index().groupby('H_MEAN').mean()\n",
    "        \n",
    "numbars = len(bars)# the number of the bars\n",
    "# range(numbars) in following command yields [0,1,...,numbars-1]\n",
    "plt.xticks(range(numbars), bars, rotation='vertical')\n",
    "plt.bar(range(numbars), heights, align='center')\n",
    "plt.xlabel('occupations in CA')\n",
    "plt.ylabel('avarage income/ hour')\n",
    "plt.show()"
   ]
  },
  {
   "cell_type": "code",
   "execution_count": null,
   "metadata": {
    "collapsed": true
   },
   "outputs": [],
   "source": [
    "df = pd.read_csv('occupations.csv')\n",
    "df.head()"
   ]
  },
  {
   "cell_type": "code",
   "execution_count": null,
   "metadata": {
    "collapsed": true
   },
   "outputs": [],
   "source": [
    "df = pd.DataFrame({'key1' : ['a','a','b','b','a'],\n",
    "               'key2' : ['one', 'two', 'one', 'two', 'one'],\n",
    "               'data1' : np.random.randn(5),\n",
    "               'data2' : np. random.randn(5)})\n",
    "df"
   ]
  },
  {
   "cell_type": "code",
   "execution_count": null,
   "metadata": {
    "collapsed": true
   },
   "outputs": [],
   "source": [
    "g = df.groupby('key1')\n",
    "\n",
    "g.apply(lambda x: x[x['key2'] == 'one']['data1'].sum())"
   ]
  },
  {
   "cell_type": "code",
   "execution_count": null,
   "metadata": {
    "collapsed": true
   },
   "outputs": [],
   "source": [
    "#major =jobs.groupby('OCC_TITLE')\n",
    "#major.apply(lambda x: x[x['OCC_GROUP'] == 'major']['H_MEAN'].sum())\n",
    "#major.apply(lambda x: x['H_MEAN'].mean() if x.OCC_GROUP == 'major')\n",
    "#major.apply(lambda x: x['H_MEAN'].mean() if x.OCC_GROUP == 'major'] else x.H_MEAN)\n",
    "#major.OCC_GROUP.apply(lambda x: major['H_MEAN'].mean() if x == 'major')\n",
    "#occupations =major.groupby('OCC_TITLE')\n",
    "#major.groupby('OCC_TITLE')['H_MEAN'].mean()"
   ]
  }
 ],
 "metadata": {
  "kernelspec": {
   "display_name": "Python 3",
   "language": "python",
   "name": "python3"
  },
  "language_info": {
   "codemirror_mode": {
    "name": "ipython",
    "version": 3
   },
   "file_extension": ".py",
   "mimetype": "text/x-python",
   "name": "python",
   "nbconvert_exporter": "python",
   "pygments_lexer": "ipython3",
   "version": "3.6.1"
  }
 },
 "nbformat": 4,
 "nbformat_minor": 2
}
