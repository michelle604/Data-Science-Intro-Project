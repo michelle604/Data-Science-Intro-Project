{
 "cells": [
  {
   "cell_type": "code",
   "execution_count": 1,
   "metadata": {
    "collapsed": true
   },
   "outputs": [],
   "source": [
    "import csv\n",
    "import pandas as pd\n",
    "import numpy as np\n",
    "import pylab as pl\n",
    "import matplotlib.pyplot as plt\n",
    "%matplotlib inline"
   ]
  },
  {
   "cell_type": "code",
   "execution_count": 4,
   "metadata": {},
   "outputs": [
    {
     "data": {
      "text/html": [
       "<div>\n",
       "<style>\n",
       "    .dataframe thead tr:only-child th {\n",
       "        text-align: right;\n",
       "    }\n",
       "\n",
       "    .dataframe thead th {\n",
       "        text-align: left;\n",
       "    }\n",
       "\n",
       "    .dataframe tbody tr th {\n",
       "        vertical-align: top;\n",
       "    }\n",
       "</style>\n",
       "<table border=\"1\" class=\"dataframe\">\n",
       "  <thead>\n",
       "    <tr style=\"text-align: right;\">\n",
       "      <th></th>\n",
       "      <th>PRIM_STATE</th>\n",
       "      <th>AREA</th>\n",
       "      <th>AREA_NAME</th>\n",
       "      <th>OCC_CODE</th>\n",
       "      <th>OCC_TITLE</th>\n",
       "      <th>OCC_GROUP</th>\n",
       "      <th>A_PCT10</th>\n",
       "      <th>A_PCT25</th>\n",
       "      <th>A_MEDIAN</th>\n",
       "      <th>A_PCT75</th>\n",
       "      <th>A_PCT90</th>\n",
       "    </tr>\n",
       "  </thead>\n",
       "  <tbody>\n",
       "    <tr>\n",
       "      <th>846</th>\n",
       "      <td>CA</td>\n",
       "      <td>41860</td>\n",
       "      <td>San Francisco-Oakland-Hayward, CA</td>\n",
       "      <td>15-1111</td>\n",
       "      <td>Computer and Information Research Scientists</td>\n",
       "      <td>detailed</td>\n",
       "      <td>75110.0</td>\n",
       "      <td>96230.0</td>\n",
       "      <td>121290.0</td>\n",
       "      <td>152370.0</td>\n",
       "      <td>184700.0</td>\n",
       "    </tr>\n",
       "  </tbody>\n",
       "</table>\n",
       "</div>"
      ],
      "text/plain": [
       "    PRIM_STATE   AREA                          AREA_NAME OCC_CODE  \\\n",
       "846         CA  41860  San Francisco-Oakland-Hayward, CA  15-1111   \n",
       "\n",
       "                                        OCC_TITLE OCC_GROUP  A_PCT10  A_PCT25  \\\n",
       "846  Computer and Information Research Scientists  detailed  75110.0  96230.0   \n",
       "\n",
       "     A_MEDIAN   A_PCT75   A_PCT90  \n",
       "846  121290.0  152370.0  184700.0  "
      ]
     },
     "execution_count": 4,
     "metadata": {},
     "output_type": "execute_result"
    }
   ],
   "source": [
    "jobs = pd.read_csv('occupations SUB.csv')\n",
    "\n",
    "#transfer the H_MEAN or A_MEAN or JOBS_1000 number from string to float\n",
    "jobs['A_PCT10'] = jobs['A_PCT10'].str.replace(',', '')\n",
    "jobs['A_PCT25'] = jobs['A_PCT25'].str.replace(',', '')\n",
    "jobs['A_MEDIAN'] = jobs['A_MEDIAN'].str.replace(',', '')\n",
    "jobs['A_PCT75'] = jobs['A_PCT75'].str.replace(',', '')\n",
    "jobs['A_PCT90'] = jobs['A_PCT90'].str.replace(',', '')\n",
    "jobs['A_PCT10'] = pd.to_numeric(jobs.A_PCT10, errors='coerce')\n",
    "jobs['A_PCT25'] = pd.to_numeric(jobs.A_PCT25, errors='coerce')\n",
    "jobs['A_MEDIAN'] = pd.to_numeric(jobs.A_MEDIAN, errors='coerce')\n",
    "jobs['A_PCT75'] = pd.to_numeric(jobs.A_PCT75, errors='coerce')\n",
    "jobs['A_PCT90'] = pd.to_numeric(jobs.A_PCT90, errors='coerce')\n",
    "\n",
    "#drop the word'Occupations' in each row of OCC_TITLE\n",
    "jobs['OCC_TITLE'] = jobs['OCC_TITLE'].str.replace('Occupations', '')\n",
    "\n",
    "#delete the rows without value\n",
    "job=jobs[jobs['A_PCT10'].notnull()]\n",
    "\n",
    "#filter the data without'major'\n",
    "detail = job[job['OCC_GROUP'].str.contains('detailed')]\n",
    "subCA = detail[detail['OCC_CODE'].str.contains('15-')]\n",
    "sub = subCA[subCA['AREA_NAME'].str.contains('San Francisco-Oakland-Hayward, CA')]\n",
    "sub.head(1)"
   ]
  },
  {
   "cell_type": "code",
   "execution_count": null,
   "metadata": {
    "collapsed": true
   },
   "outputs": [],
   "source": []
  }
 ],
 "metadata": {
  "kernelspec": {
   "display_name": "Python 3",
   "language": "python",
   "name": "python3"
  },
  "language_info": {
   "codemirror_mode": {
    "name": "ipython",
    "version": 3
   },
   "file_extension": ".py",
   "mimetype": "text/x-python",
   "name": "python",
   "nbconvert_exporter": "python",
   "pygments_lexer": "ipython3",
   "version": "3.6.1"
  }
 },
 "nbformat": 4,
 "nbformat_minor": 2
}
